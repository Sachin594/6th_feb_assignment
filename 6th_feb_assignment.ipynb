{
 "cells": [
  {
   "cell_type": "code",
   "execution_count": 17,
   "id": "1443aca0-7e28-4a5b-8cc8-3e40b454791b",
   "metadata": {},
   "outputs": [
    {
     "name": "stdout",
     "output_type": "stream",
     "text": [
      "Your flattened list is :  [1, 2, 3, 4, 44, 55, 66, 34, 56, 78, 89, 34, 1, 2, 3, 1, 4, 34, 55, 67, 78, 89, 45, 22, 61, 34, 56]\n",
      "The product of all numbers is :  4134711838987085478833841242112000\n"
     ]
    }
   ],
   "source": [
    "## 1.\n",
    "## Answer -\n",
    "\n",
    "\n",
    "## Given List -\n",
    "list1=[1,2,3,4, [44,55,66, True], False, (34,56,78,89,34), {1,2,3,3,2,1}, {1:34, \"key2\": [55, 67, 78, 89], 4: (45,\n",
    "22, 61, 34)}, [56, 'data science'], 'Machine Learning']\n",
    "##Function -\n",
    "def product(x):\n",
    "    l1=[]\n",
    "    for i in x :\n",
    "        if type(i)==int:\n",
    "            l1.append(i)\n",
    "        elif type(i)==list:\n",
    "            for j in i :\n",
    "                if type(j)==int:\n",
    "                    l1.append(j)\n",
    "        elif type(i)==set or type(i)==tuple:\n",
    "            for k in i :\n",
    "                if type(k)==int:\n",
    "                    l1.append(k)\n",
    "        elif type(i) == dict:\n",
    "            for m in i.keys():\n",
    "                if type(m)==int:\n",
    "                    l1.append(m)\n",
    "            for n in i.values():\n",
    "                if type(n)==int:\n",
    "                    l1.append(n)\n",
    "                elif type(n)==list or type(n)==tuple or type(n)== set:\n",
    "                    for o in n :\n",
    "                        if type(o)==int:\n",
    "                            l1.append(o)\n",
    "    print(\"Your flattened list is : \",l1)\n",
    "    from functools import reduce\n",
    "    s= reduce(lambda x,y : x*y,l1)\n",
    "    print(\"The product of all numbers is : \",s)\n",
    "## Calling our function using argument List1 :\n",
    "product(list1)"
   ]
  },
  {
   "cell_type": "code",
   "execution_count": 20,
   "id": "537ef093-970e-4cc6-aa01-64289a2b2b9c",
   "metadata": {},
   "outputs": [
    {
     "name": "stdout",
     "output_type": "stream",
     "text": [
      "r$dzmg$gl$yvxlnv$z$wzgz$hxrvmgrhg\n"
     ]
    }
   ],
   "source": [
    "## 2.\n",
    "## Answer -\n",
    "\n",
    "d3 = {'a':'z','b':'y','c':'x','d':'w','e':'v','f':'u','g':'t','h':'s','i':'r','j':'q','k':'p','l':'o','m':'n','z':'a','y':'b','x':'c','w':'d','v':'e','u':'f','t':'g','s':'h','r':'i','q':'j','p':'k','o':'l','n':'m',' ':'$','$':' '}\n",
    "Inpsentence= 'I want to become a Data Scientist'\n",
    "Orisentence = Inpsentence.lower()\n",
    "Encmessage=''\n",
    "for i in Orisentence :\n",
    "      Encmessage=Encmessage+d3[i]\n",
    "print(Encmessage)     \n",
    "    "
   ]
  },
  {
   "cell_type": "code",
   "execution_count": null,
   "id": "9931f5a6-09c7-4b9c-a06a-4110235444d3",
   "metadata": {},
   "outputs": [],
   "source": []
  }
 ],
 "metadata": {
  "kernelspec": {
   "display_name": "Python 3 (ipykernel)",
   "language": "python",
   "name": "python3"
  },
  "language_info": {
   "codemirror_mode": {
    "name": "ipython",
    "version": 3
   },
   "file_extension": ".py",
   "mimetype": "text/x-python",
   "name": "python",
   "nbconvert_exporter": "python",
   "pygments_lexer": "ipython3",
   "version": "3.10.8"
  }
 },
 "nbformat": 4,
 "nbformat_minor": 5
}
